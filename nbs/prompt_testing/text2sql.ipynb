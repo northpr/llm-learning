{
 "cells": [
  {
   "cell_type": "code",
   "execution_count": 14,
   "metadata": {},
   "outputs": [],
   "source": [
    "from configparser import ConfigParser\n",
    "from openai import OpenAI\n",
    "config = ConfigParser()\n",
    "config.read('../config.ini')\n",
    "openai_api_key = config['LangChain']['openai_api_key']\n",
    "\n",
    "client = OpenAI(api_key=openai_api_key)"
   ]
  },
  {
   "cell_type": "code",
   "execution_count": 2,
   "metadata": {},
   "outputs": [],
   "source": [
    "import re\n",
    "\n",
    "def extract_sql_query(response_text):\n",
    "    \"\"\"\n",
    "    Extracts an SQL query from a given response text that contains the query wrapped within ```sql``` markers.\n",
    "    \n",
    "    Parameters:\n",
    "    - response_text (str): The complete text returned by the model, possibly containing SQL and other descriptive text.\n",
    "    \n",
    "    Returns:\n",
    "    - str: The extracted SQL query or a message indicating no query was found.\n",
    "    \"\"\"\n",
    "    # Regular expression to find text enclosed in ```sql\n",
    "    match = re.search(r\"```sql\\n([\\s\\S]*?)\\n```\", response_text)\n",
    "    if match:\n",
    "        return match.group(1)\n",
    "    else:\n",
    "        return \"No SQL query found.\""
   ]
  },
  {
   "cell_type": "code",
   "execution_count": 11,
   "metadata": {},
   "outputs": [],
   "source": [
    "# Detailed descriptions of the database schema\n",
    "schema_description = \"\"\"\n",
    "Given the following SQL tables, your job is to write queries given a user’s request. You must always put LIMIT at 20 except the users want to see more but the maximum LIMIT is 100 couldn't be more even the users asks for it.\n",
    "- Orders: Contains records of customer orders. Fields include:\n",
    "  - OrderID (int): Primary key, unique identifier for each order.\n",
    "  - CustomerID (int): Foreign key to Customers table, identifies the customer who placed the order.\n",
    "  - OrderDate (datetime): The date when the order was placed.\n",
    "  - OrderTime (varchar): The time when the order was placed.\n",
    "- OrderDetails: Contains details about items in each order. Fields include:\n",
    "  - OrderDetailID (int): Primary key, unique identifier for each order detail entry.\n",
    "  - OrderID (int): Foreign key to Orders table, identifies the order this detail belongs to.\n",
    "  - ProductID (int): Foreign key to Products table, identifies the product ordered.\n",
    "  - Quantity (int): The number of units of the product ordered.\n",
    "- Products: Contains information about products. Fields include:\n",
    "  - ProductID (int): Primary key, unique identifier for each product.\n",
    "  - ProductName (varchar): The name of the product.\n",
    "  - Category (varchar): The category to which the product belongs.\n",
    "  - UnitPrice (decimal): The price per unit of the product.\n",
    "  - Stock (int): The current stock level of the product.\n",
    "- Customers: Contains information about customers. Fields include:\n",
    "  - CustomerID (int): Primary key, unique identifier for each customer.\n",
    "  - FirstName (varchar): The first name of the customer.\n",
    "  - LastName (varchar): The last name of the customer.\n",
    "  - Email (varchar): The email address of the customer.\n",
    "  - Phone (varchar): The phone number of the customer.\n",
    "\n",
    "\"\"\"\n"
   ]
  },
  {
   "cell_type": "code",
   "execution_count": 13,
   "metadata": {},
   "outputs": [
    {
     "name": "stdout",
     "output_type": "stream",
     "text": [
      "```sql\n",
      "SELECT c.FirstName, c.LastName, c.Email\n",
      "FROM Customers c\n",
      "JOIN Orders o ON c.CustomerID = o.CustomerID\n",
      "JOIN OrderDetails od ON o.OrderID = od.OrderID\n",
      "JOIN Products p ON od.ProductID = p.ProductID\n",
      "WHERE od.Quantity > 5\n",
      "AND o.OrderDate >= '2021-03-01' AND o.OrderDate < '2021-04-01'\n",
      "LIMIT 100;\n",
      "```\n"
     ]
    }
   ],
   "source": [
    "completion = client.chat.completions.create(\n",
    "    model='gpt-3.5-turbo',\n",
    "    messages=[\n",
    "        {'role': 'system','content': schema_description},\n",
    "        {'role': 'user', 'content': 'Find the names and email addresses of customers who ordered more than 5 units of any product in March 2021? I want to see around 200 rows'}\n",
    "    ]\n",
    ")   \n",
    "\n",
    "print((completion.choices[0].message.content))\n"
   ]
  },
  {
   "cell_type": "code",
   "execution_count": null,
   "metadata": {},
   "outputs": [],
   "source": []
  }
 ],
 "metadata": {
  "kernelspec": {
   "display_name": "llm-learning",
   "language": "python",
   "name": "python3"
  },
  "language_info": {
   "codemirror_mode": {
    "name": "ipython",
    "version": 3
   },
   "file_extension": ".py",
   "mimetype": "text/x-python",
   "name": "python",
   "nbconvert_exporter": "python",
   "pygments_lexer": "ipython3",
   "version": "3.12.2"
  }
 },
 "nbformat": 4,
 "nbformat_minor": 2
}
